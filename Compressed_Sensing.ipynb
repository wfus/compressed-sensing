{
  "nbformat": 4,
  "nbformat_minor": 0,
  "metadata": {
    "colab": {
      "name": "Compressed Sensing",
      "version": "0.3.2",
      "provenance": [],
      "collapsed_sections": [],
      "include_colab_link": true
    },
    "kernelspec": {
      "name": "python3",
      "display_name": "Python 3"
    }
  },
  "cells": [
    {
      "cell_type": "markdown",
      "metadata": {
        "id": "view-in-github",
        "colab_type": "text"
      },
      "source": [
        "<a href=\"https://colab.research.google.com/github/wfus/compressed-sensing/blob/master/Compressed_Sensing.ipynb\" target=\"_parent\"><img src=\"https://colab.research.google.com/assets/colab-badge.svg\" alt=\"Open In Colab\"/></a>"
      ]
    },
    {
      "metadata": {
        "id": "qjcIfKQDroA7",
        "colab_type": "text"
      },
      "cell_type": "markdown",
      "source": [
        "# Compressed Sensing Project\n",
        "\n",
        "We will be implementing compressed sensing. We will be using CIFAR-100 as a good dataset for images. The dataset can be downloaded [here.](https://www.cs.toronto.edu/~kriz/cifar.html)"
      ]
    },
    {
      "metadata": {
        "id": "-rG768oAI2qA",
        "colab_type": "text"
      },
      "cell_type": "markdown",
      "source": [
        "## Data Loading\n",
        "\n",
        "Here is some code that loads in the images in standard numpy format. The format given in CIFAR-100 is with the channel, most likely $C \\times W \\times H$, while we want it $H \\times W \\times C$ to display it using numpy and matplotlib, and for when we feed it into our neural network."
      ]
    },
    {
      "metadata": {
        "id": "gDTc14DeYJEr",
        "colab_type": "code",
        "colab": {}
      },
      "cell_type": "code",
      "source": [
        "import numpy as np\n",
        "import scipy\n",
        "import sys\n",
        "from matplotlib import pyplot as plt\n",
        "%matplotlib inline"
      ],
      "execution_count": 0,
      "outputs": []
    },
    {
      "metadata": {
        "id": "IKU7aTf2YQ0V",
        "colab_type": "code",
        "colab": {}
      },
      "cell_type": "code",
      "source": [
        "%%bash\n",
        "wget -nc https://www.cs.toronto.edu/~kriz/cifar-100-python.tar.gz\n",
        "tar xvf cifar-100-python.tar.gz"
      ],
      "execution_count": 0,
      "outputs": []
    },
    {
      "metadata": {
        "id": "RSpAWVlmYoh2",
        "colab_type": "code",
        "colab": {}
      },
      "cell_type": "code",
      "source": [
        "def unpickle(file):\n",
        "    if sys.version_info >= (3,0):\n",
        "        import pickle\n",
        "        with open(file, 'rb') as fo:\n",
        "            d = pickle.load(fo, encoding='bytes')\n",
        "        return d\n",
        "    else:\n",
        "        import cPickle\n",
        "        with open(file, 'rb') as fo:\n",
        "            d = cPickle.load(fo)\n",
        "        return d\n",
        "\n",
        "def cifar_to_image(data):\n",
        "    test_image = data.reshape(3, 32, 32)\n",
        "    test_image = test_image.swapaxes(0, 2)\n",
        "    test_image = test_image.swapaxes(0, 1)\n",
        "    return test_image\n",
        "\n",
        "train_data = unpickle('cifar-100-python/train')\n",
        "test_data = unpickle('cifar-100-python/test')\n",
        "images = train_data[b'data']\n",
        "labels = train_data[b'fine_labels']\n",
        "test_images = test_data[b'data']\n",
        "test_labels = test_data[b'fine_labels']"
      ],
      "execution_count": 0,
      "outputs": []
    },
    {
      "metadata": {
        "id": "GhsJnJJ5bzFq",
        "colab_type": "code",
        "colab": {}
      },
      "cell_type": "code",
      "source": [
        "print('Number of images in training set: %d' % len(images))\n",
        "print('Number of images in testing set: %d' % len(test_images))"
      ],
      "execution_count": 0,
      "outputs": []
    },
    {
      "metadata": {
        "id": "ve-INyKKdiFv",
        "colab_type": "code",
        "colab": {}
      },
      "cell_type": "code",
      "source": [
        "def plot_random_image(test1):\n",
        "    plt.grid(False)\n",
        "    plt.imshow(test1)\n",
        "    plt.show()\n",
        "    \n",
        "def get_random_image():\n",
        "    rand_index = np.random.choice(range(len(images)))\n",
        "    print('Chose index %d from training set' % rand_index)\n",
        "    print('Label: %d' % labels[rand_index])\n",
        "    test1 = cifar_to_image(images[rand_index])\n",
        "    return test1"
      ],
      "execution_count": 0,
      "outputs": []
    },
    {
      "metadata": {
        "id": "tQL7ZifQdQdw",
        "colab_type": "code",
        "colab": {}
      },
      "cell_type": "code",
      "source": [
        "test = get_random_image()\n",
        "plot_random_image(test)"
      ],
      "execution_count": 0,
      "outputs": []
    },
    {
      "metadata": {
        "id": "2WaQ9JN_ryUA",
        "colab_type": "text"
      },
      "cell_type": "markdown",
      "source": [
        "## Turning the Image Sparse\n",
        "\n",
        "Compressive sensing works by converting our image into a domain where it is sparse. This is very similar to how we transform into frequency space and quantize in JPEG and other popular image encoding methods. This will apply the DCT transform and some quantization to make our values `uint8`. This is the way most images are encoded before sending it through a network channel.\n",
        "\n"
      ]
    },
    {
      "metadata": {
        "id": "WLrgjX5sP2e-",
        "colab_type": "text"
      },
      "cell_type": "markdown",
      "source": [
        "### DCT\n",
        "\n",
        "The DCT can be done in `scipy`, [here](http://bugra.github.io/work/notes/2014-07-12/discre-fourier-cosine-transform-dft-dct-image-compression/) is a nice link as a tutorial. That link applies to the DCT on the full image, but we want to experiment using the DCT on $8 \\times 8$ blocks just like JPEG first. Some code for that is available [here](https://inst.eecs.berkeley.edu/~ee123/sp16/Sections/JPEG_DCT_Demo.html) as a nice Jupyter notebook from Berkeley."
      ]
    },
    {
      "metadata": {
        "id": "eZLf-nrtP4U7",
        "colab_type": "text"
      },
      "cell_type": "markdown",
      "source": [
        "#### Full Image DCT\n",
        "\n",
        "We'll first try the DCT matrix on the full image and see what happens. We can also see "
      ]
    },
    {
      "metadata": {
        "id": "yVB5ugPnrVEH",
        "colab_type": "code",
        "colab": {}
      },
      "cell_type": "code",
      "source": [
        "import scipy\n",
        "import numpy as np"
      ],
      "execution_count": 0,
      "outputs": []
    },
    {
      "metadata": {
        "id": "oJufMqpRrxjr",
        "colab_type": "code",
        "colab": {}
      },
      "cell_type": "code",
      "source": [
        "from scipy import fftpack as fft\n",
        "\n",
        "def dct_full_2D(image):\n",
        "    return fft.dct(fft.dct(image.T, norm='ortho').T, norm='ortho')\n",
        "\n",
        "def idct_full_2D(coefficients):\n",
        "    return fft.idct(fft.idct(coefficients.T, norm='ortho').T, norm='ortho')\n",
        "\n",
        "def image_to_dct(image):\n",
        "    return np.array(dct_full_2D(image), dtype=np.int32)\n",
        "\n",
        "def dct_to_image(dctmatrix):\n",
        "    return idct_full_2D(dctmatrix).clip(0, 255).astype(np.uint8)\n",
        "    "
      ],
      "execution_count": 0,
      "outputs": []
    },
    {
      "metadata": {
        "id": "Q6csEasCrqX_",
        "colab_type": "code",
        "colab": {}
      },
      "cell_type": "code",
      "source": [
        "dct_test = get_random_image()\n",
        "plot_random_image(dct_test)"
      ],
      "execution_count": 0,
      "outputs": []
    },
    {
      "metadata": {
        "id": "Iz00_yq3TEoW",
        "colab_type": "code",
        "colab": {}
      },
      "cell_type": "code",
      "source": [
        "dct_test_converted = dct_full_2D(dct_test)"
      ],
      "execution_count": 0,
      "outputs": []
    },
    {
      "metadata": {
        "id": "KtbXo-_TZPXY",
        "colab_type": "code",
        "colab": {}
      },
      "cell_type": "code",
      "source": [
        "N_COLOR_CHANNELS = 3\n",
        "for chan in range(N_COLOR_CHANNELS):\n",
        "    plt.subplot(1, 3, chan + 1)\n",
        "    plt.imshow(dct_test_converted[:, :, chan])\n",
        "    \n",
        "dct_test_int = np.array(dct_test_converted, dtype=np.int32)\n",
        "print('Sparsity of DCT: ', np.sum(dct_test_int == 0) / float(dct_test_int.size))"
      ],
      "execution_count": 0,
      "outputs": []
    },
    {
      "metadata": {
        "id": "0vhk9DigZ7RD",
        "colab_type": "text"
      },
      "cell_type": "markdown",
      "source": [
        "We see that this is indeed a pretty sparse representation, once we take the floor of everything to make the coefficients integers. Let's turn the image back once we have done this step to see our recovered image (rounding the DCT coefficients lose some information)"
      ]
    },
    {
      "metadata": {
        "id": "zhaJW2LFZ6cG",
        "colab_type": "code",
        "colab": {}
      },
      "cell_type": "code",
      "source": [
        "plot_random_image(dct_to_image(dct_test_int))"
      ],
      "execution_count": 0,
      "outputs": []
    },
    {
      "metadata": {
        "id": "OkRWPaEBsFcy",
        "colab_type": "text"
      },
      "cell_type": "markdown",
      "source": [
        "## Retrieval with Data-driven Approaches\n",
        "\n",
        "Let's first try the naive approach. The naive approach we don't expect will work well at all.\n",
        "\n",
        "In the CIFAR case, note that the image values have the support $\\mathbb{R}^{32 \\times 32 \\times 3}$. However, we are assuming that the domain of natural images is actually much much smaller. Through training with the data, we should be able to try to train a blackbox to retrieve images from undersampled measurements."
      ]
    },
    {
      "metadata": {
        "id": "zPcMaJqYcIYZ",
        "colab_type": "text"
      },
      "cell_type": "markdown",
      "source": [
        "### Making the Sensing Matrix\n",
        "\n",
        "First, let's flatten our DCT coefficients, so our original signal in a sparse space is $\\mathbf{x} \\in \\mathbb{R}^{3072}$. Then, the setup of our problem will be mapping signals from $\\mathbb{R}^{N} \\to \\mathbb{R}^{M}$. For now, we will assume that the sensing matrix is distributed randomly.\n",
        "\n",
        "$$N = 3072$$\n",
        "$$M = \\mathsf{[500, 1000, 1500, 2000]}$$\n",
        "$$x \\in \\mathbb{R}^N$$\n",
        "$$A \\in \\mathbb{R}^{N \\times M}$$\n",
        "$$A_{i, j} \\sim \\mathcal{N}(0, 1)$$\n",
        "$$y = Ax$$\n",
        "\n",
        "We will implement our sensing matrix as a fully-connected layer in our neural network. We will initialize it with a Gaussian, which should give us what we want."
      ]
    },
    {
      "metadata": {
        "id": "HAQQq9QKsgNV",
        "colab_type": "code",
        "colab": {}
      },
      "cell_type": "code",
      "source": [
        "import torch\n",
        "import torch.distributions as ds\n",
        "from torch import nn\n",
        "from torch.utils import data as utils\n",
        "import torch.nn.functional as F"
      ],
      "execution_count": 0,
      "outputs": []
    },
    {
      "metadata": {
        "id": "gsBBLSTnfs2N",
        "colab_type": "code",
        "colab": {}
      },
      "cell_type": "code",
      "source": [
        "N = 3072\n",
        "M = 2000\n",
        "test_x = ds.Normal(torch.zeros(N), torch.ones(N)).sample()\n",
        "A = ds.Normal(torch.zeros((M, N)), torch.ones((M, N))).sample()"
      ],
      "execution_count": 0,
      "outputs": []
    },
    {
      "metadata": {
        "id": "AIWntl7N84rk",
        "colab_type": "code",
        "colab": {}
      },
      "cell_type": "code",
      "source": [
        "test_y = torch.matmul(A, test_x)\n",
        "test_y.shape"
      ],
      "execution_count": 0,
      "outputs": []
    },
    {
      "metadata": {
        "id": "8IhLJmiD8_to",
        "colab_type": "text"
      },
      "cell_type": "markdown",
      "source": [
        "### Preprocessing our Data\n",
        "\n",
        "Our FCN should be mapping the $y$ back to the sparse $x$. Therefore, we will have to get our images, sparsify them, and those will be $x$. The $y$ we feed in to the neural network will be $Ax$. It's kind of confusing because the variables are swapped, but:\n",
        "\n",
        "```\n",
        "train_X: undersampled measurements y = Ax\n",
        "train_y: original sparse flattened DCT of image, x\n",
        "```\n",
        "\n",
        "We will have to preprocess our CIFAR images first."
      ]
    },
    {
      "metadata": {
        "id": "KHFqwIPAKViG",
        "colab_type": "code",
        "colab": {}
      },
      "cell_type": "code",
      "source": [
        "device = torch.device(\"cuda:0\" if torch.cuda.is_available() else \"cpu\")\n",
        "print('Using device: %s' % str(device))"
      ],
      "execution_count": 0,
      "outputs": []
    },
    {
      "metadata": {
        "id": "MR5kOq3x8UKs",
        "colab_type": "code",
        "colab": {}
      },
      "cell_type": "code",
      "source": [
        "def cifar_to_sparse(image):\n",
        "    image = cifar_to_image(image)\n",
        "    image = image_to_dct(image)\n",
        "    return image.flatten()\n",
        "\n",
        "sparse_X = torch.tensor([cifar_to_sparse(im) for im in images]).float()\n",
        "test_sparse_X = torch.tensor([cifar_to_sparse(im) for im in test_images]).float()"
      ],
      "execution_count": 0,
      "outputs": []
    },
    {
      "metadata": {
        "id": "Hjqa4zBl8UM-",
        "colab_type": "code",
        "colab": {}
      },
      "cell_type": "code",
      "source": [
        "train_X = torch.matmul(sparse_X, A.t()).to(device)\n",
        "train_y = sparse_X.to(device)\n",
        "\n",
        "test_X = torch.matmul(test_sparse_X, A.t()).to(device)\n",
        "test_y = test_sparse_X.to(device)\n",
        "\n",
        "train_data = utils.TensorDataset(train_X, train_y)\n",
        "dataloader = utils.DataLoader(train_data, batch_size=64, shuffle=True)"
      ],
      "execution_count": 0,
      "outputs": []
    },
    {
      "metadata": {
        "id": "q9cNUdNh8URO",
        "colab_type": "code",
        "colab": {}
      },
      "cell_type": "code",
      "source": [
        "class JohnNet(nn.Module):\n",
        "    \"\"\"A NN that definitely won't work, lmao, Test our dataloader.\"\"\"\n",
        "    def __init__(self, N, M, A):\n",
        "        super(JohnNet, self).__init__()\n",
        "        self.fc1 = nn.Linear(M, 100)\n",
        "        self.fc2 = nn.Linear(100, N)\n",
        "        \n",
        "    def forward(self, x):\n",
        "        x = F.relu(self.fc1(x))\n",
        "        return self.fc2(x)"
      ],
      "execution_count": 0,
      "outputs": []
    },
    {
      "metadata": {
        "id": "snQdSSnm8UTX",
        "colab_type": "code",
        "colab": {}
      },
      "cell_type": "code",
      "source": [
        "net = JohnNet(N, M, A).to(device)"
      ],
      "execution_count": 0,
      "outputs": []
    },
    {
      "metadata": {
        "id": "YsQfXLsm8UVl",
        "colab_type": "code",
        "outputId": "c92c6173-d999-40a4-abbb-820f0270a7e1",
        "colab": {
          "base_uri": "https://localhost:8080/",
          "height": 34
        }
      },
      "cell_type": "code",
      "source": [
        "import tqdm\n",
        "epochs = 1000\n",
        "epoch_queue = tqdm.tqdm(range(epochs))\n",
        "for epoch in epoch_queue:\n",
        "    for index, batch in enumerate(dataloader):\n",
        "        X, y = batch\n",
        "        optimizer = torch.optim.Adam(net.parameters())\n",
        "        criterion = nn.MSELoss()\n",
        "    \n",
        "        optimizer.zero_grad()\n",
        "        y_hat = net(X)\n",
        "        loss = criterion(y_hat, y)\n",
        "        loss.backward()\n",
        "        optimizer.step()\n",
        "    \n",
        "    y_hat = net(test_X)\n",
        "    test_loss = criterion(y_hat, test_y)\n",
        "    epoch_queue.set_description(\"Test Loss: %d\" % test_loss)"
      ],
      "execution_count": 0,
      "outputs": [
        {
          "output_type": "stream",
          "text": [
            "Test Loss: 5792: 100%|██████████| 1000/1000 [16:00<00:00,  1.05it/s]\n"
          ],
          "name": "stderr"
        }
      ]
    },
    {
      "metadata": {
        "id": "XsTKyNwyLZcS",
        "colab_type": "text"
      },
      "cell_type": "markdown",
      "source": [
        "Now let's look at our predicted images to see if they even look reasonable at all. It probably won't TBQH."
      ]
    },
    {
      "metadata": {
        "id": "7TWOR01_LWeP",
        "colab_type": "code",
        "colab": {}
      },
      "cell_type": "code",
      "source": [
        "import random\n",
        "\n",
        "def plot_naive_training():\n",
        "    rand_index = random.randint(0, len(train_X) - 1)\n",
        "    test_x_image = train_X[rand_index]\n",
        "    test_y_image = train_y[rand_index]\n",
        "    pred_sparse = net(test_x_image)\n",
        "    pred_image = dct_to_image(pred_sparse.reshape(32, 32, 3).cpu().detach().numpy())\n",
        "    real_image = dct_to_image(test_y_image.reshape(32, 32, 3).cpu().detach().numpy())\n",
        "\n",
        "    plt.subplot(1, 2, 1)\n",
        "    plt.imshow(pred_image)\n",
        "    plt.subplot(1, 2, 2)\n",
        "    plt.imshow(real_image)\n",
        "    plt.show()\n",
        "    \n",
        "def plot_naive_testing():\n",
        "    rand_index = random.randint(0, len(test_X) - 1)\n",
        "    test_x_image = test_X[rand_index]\n",
        "    test_y_image = test_y[rand_index]\n",
        "    pred_sparse = net(test_x_image)\n",
        "    pred_image = dct_to_image(pred_sparse.reshape(32, 32, 3).cpu().detach().numpy())\n",
        "    real_image = dct_to_image(test_y_image.reshape(32, 32, 3).cpu().detach().numpy())\n",
        "\n",
        "    plt.subplot(1, 2, 1)\n",
        "    plt.imshow(pred_image)\n",
        "    plt.subplot(1, 2, 2)\n",
        "    plt.imshow(real_image)\n",
        "    plt.show()"
      ],
      "execution_count": 0,
      "outputs": []
    },
    {
      "metadata": {
        "id": "rvvy2hJQ8UXw",
        "colab_type": "code",
        "outputId": "1421b1c9-8fa8-4aaf-94cc-46c4ad51bbed",
        "colab": {
          "base_uri": "https://localhost:8080/",
          "height": 204
        }
      },
      "cell_type": "code",
      "source": [
        "plot_naive_testing()"
      ],
      "execution_count": 0,
      "outputs": [
        {
          "output_type": "display_data",
          "data": {
            "image/png": "[encoded data removed]",
            "text/plain": [
              "<Figure size 432x288 with 2 Axes>"
            ]
          },
          "metadata": {
            "tags": [],
            "needs_background": "light"
          }
        }
      ]
    },
    {
      "metadata": {
        "id": "00fj3v_8siVG",
        "colab_type": "code",
        "colab": {}
      },
      "cell_type": "code",
      "source": [
        "sensing_fc = nn.Linear(N, M, bias=False)  # If we do decide to actually optimize for the sensing layer."
      ],
      "execution_count": 0,
      "outputs": []
    },
    {
      "metadata": {
        "id": "K8U372h6gFMA",
        "colab_type": "code",
        "outputId": "d585c7e3-4d48-4fe7-d177-42a99f149c4f",
        "colab": {
          "base_uri": "https://localhost:8080/",
          "height": 34
        }
      },
      "cell_type": "code",
      "source": [
        "test_x"
      ],
      "execution_count": 0,
      "outputs": [
        {
          "output_type": "execute_result",
          "data": {
            "text/plain": [
              "tensor([-1.5866,  0.2789, -0.9628,  ..., -0.1109, -0.9543,  0.8594])"
            ]
          },
          "metadata": {
            "tags": []
          },
          "execution_count": 83
        }
      ]
    },
    {
      "metadata": {
        "id": "HbBTBfYatXEi",
        "colab_type": "code",
        "outputId": "ec77002a-81f6-48e6-95a3-275b7891c4ab",
        "colab": {
          "base_uri": "https://localhost:8080/",
          "height": 173
        }
      },
      "cell_type": "code",
      "source": [
        "nn.init.normal_(sensing_fc.weight, 0, 1)"
      ],
      "execution_count": 0,
      "outputs": [
        {
          "output_type": "execute_result",
          "data": {
            "text/plain": [
              "Parameter containing:\n",
              "tensor([[ 0.0805, -0.1097,  0.7224,  ...,  2.1265,  0.5065,  0.0935],\n",
              "        [-0.0101, -0.7676,  0.0477,  ..., -0.3958,  0.2011,  0.2303],\n",
              "        [ 0.2383, -1.0049,  0.2266,  ...,  0.5397,  1.0106,  0.6275],\n",
              "        ...,\n",
              "        [ 0.1016, -0.7452,  0.9516,  ..., -0.2994,  1.3512,  0.5771],\n",
              "        [ 0.4895,  2.0024, -0.4702,  ...,  1.0088,  0.6933, -0.1347],\n",
              "        [ 0.7317, -0.1853, -1.8950,  ..., -1.2375,  0.3239,  0.0671]],\n",
              "       requires_grad=True)"
            ]
          },
          "metadata": {
            "tags": []
          },
          "execution_count": 90
        }
      ]
    },
    {
      "metadata": {
        "id": "l5uQrR_WgB8r",
        "colab_type": "code",
        "outputId": "20e9729f-5ef4-4d2f-8b07-8ab1bf1f9d07",
        "colab": {
          "base_uri": "https://localhost:8080/",
          "height": 166
        }
      },
      "cell_type": "code",
      "source": [
        "image\n"
      ],
      "execution_count": 0,
      "outputs": [
        {
          "output_type": "error",
          "ename": "NameError",
          "evalue": "ignored",
          "traceback": [
            "\u001b[0;31m---------------------------------------------------------------------------\u001b[0m",
            "\u001b[0;31mNameError\u001b[0m                                 Traceback (most recent call last)",
            "\u001b[0;32m<ipython-input-95-28935580a9bb>\u001b[0m in \u001b[0;36m<module>\u001b[0;34m()\u001b[0m\n\u001b[0;32m----> 1\u001b[0;31m \u001b[0mimage\u001b[0m\u001b[0;34m\u001b[0m\u001b[0m\n\u001b[0m",
            "\u001b[0;31mNameError\u001b[0m: name 'image' is not defined"
          ]
        }
      ]
    },
    {
      "metadata": {
        "id": "AZN70f6z62SN",
        "colab_type": "code",
        "outputId": "564d68be-1da7-40b4-fb80-d52f5e13b900",
        "colab": {
          "base_uri": "https://localhost:8080/",
          "height": 166
        }
      },
      "cell_type": "code",
      "source": [
        "image"
      ],
      "execution_count": 0,
      "outputs": [
        {
          "output_type": "error",
          "ename": "NameError",
          "evalue": "ignored",
          "traceback": [
            "\u001b[0;31m---------------------------------------------------------------------------\u001b[0m",
            "\u001b[0;31mNameError\u001b[0m                                 Traceback (most recent call last)",
            "\u001b[0;32m<ipython-input-241-28935580a9bb>\u001b[0m in \u001b[0;36m<module>\u001b[0;34m()\u001b[0m\n\u001b[0;32m----> 1\u001b[0;31m \u001b[0mimage\u001b[0m\u001b[0;34m\u001b[0m\u001b[0m\n\u001b[0m",
            "\u001b[0;31mNameError\u001b[0m: name 'image' is not defined"
          ]
        }
      ]
    },
    {
      "metadata": {
        "id": "X6vaGsqdTnSM",
        "colab_type": "text"
      },
      "cell_type": "markdown",
      "source": [
        "## Another approach - using the Adjoint\n",
        "\n",
        "What if we feed into our neural network the adjoint without doing the DCT first? Again, we'll essentially be using a linear layer at the beginning and performing retrieval. This is very similar to the paper [Mousavi and baraniuk - Learning to invert: Signal Recovery via Deep Convolutional Networks.](https://arxiv.org/abs/1701.03891)\n",
        "\n",
        "Now, we're going to undersample in a weirder way. We will first have images that are $32 \\times 32 \\times 3$. We are then going to flatten, downsample to dimension $2700$ to get our resultant $y$. Then, we will calculate $\\tilde{x} = A^\\top y$ and feed $\\tilde{x}$ into our FCN. Lets do it!"
      ]
    },
    {
      "metadata": {
        "id": "crfK7i_sTZcN",
        "colab_type": "code",
        "colab": {}
      },
      "cell_type": "code",
      "source": [
        "device = torch.device(\"cuda:0\" if torch.cuda.is_available() else \"cpu\")\n",
        "print('Using device: %s' % str(device))\n",
        "\n",
        "image_X = torch.tensor([cifar_to_image(im) for im in images]).float().to(device)\n",
        "test_image_X = torch.tensor([cifar_to_image(im) for im in test_images]).float().to(device)"
      ],
      "execution_count": 0,
      "outputs": []
    },
    {
      "metadata": {
        "id": "yLd2w33QWg6q",
        "colab_type": "code",
        "colab": {}
      },
      "cell_type": "code",
      "source": [
        "print(image_X.shape)\n",
        "print(test_image_X.shape)\n",
        "\n",
        "image_X.view(image_X.shape[0], -1).shape"
      ],
      "execution_count": 0,
      "outputs": []
    },
    {
      "metadata": {
        "id": "zSboupzHUQrR",
        "colab_type": "code",
        "colab": {}
      },
      "cell_type": "code",
      "source": [
        "# For training purposes, we're essentially multiplying by A^T A\n",
        "ATA = A.t().mm(A).to(device)\n",
        "\n",
        "# Flatten, apply our sensing matrix, and multiply by adjoint.\n",
        "train_X = image_X.view(image_X.shape[0], -1).mm(ATA).view(image_X.shape)\n",
        "test_X = test_image_X.view(test_image_X.shape[0], -1).mm(ATA).view(test_image_X.shape)\n",
        "\n",
        "train_y = image_X\n",
        "test_y = test_image_X"
      ],
      "execution_count": 0,
      "outputs": []
    },
    {
      "metadata": {
        "id": "ABE7FBG4XT2c",
        "colab_type": "code",
        "colab": {}
      },
      "cell_type": "code",
      "source": [
        "def plot_train_test(index):\n",
        "    train_signal = train_X[index].cpu().numpy().astype(np.uint8)\n",
        "    test_signal = train_y[index].cpu().numpy().astype(np.uint8)\n",
        "    \n",
        "    plt.subplot(1, 2, 1)\n",
        "    plt.imshow(train_signal)\n",
        "    plt.subplot(1, 2, 2)\n",
        "    plt.imshow(test_signal)\n",
        "    plt.show()"
      ],
      "execution_count": 0,
      "outputs": []
    },
    {
      "metadata": {
        "id": "2YQue0-9Yy_W",
        "colab_type": "code",
        "colab": {}
      },
      "cell_type": "code",
      "source": [
        "plot_train_test(1)"
      ],
      "execution_count": 0,
      "outputs": []
    },
    {
      "metadata": {
        "id": "waoz9vs3XzTa",
        "colab_type": "code",
        "colab": {}
      },
      "cell_type": "code",
      "source": [
        "plot_train_test(2)"
      ],
      "execution_count": 0,
      "outputs": []
    },
    {
      "metadata": {
        "id": "mQhfX0wDYcs3",
        "colab_type": "code",
        "colab": {}
      },
      "cell_type": "code",
      "source": [
        ""
      ],
      "execution_count": 0,
      "outputs": []
    }
  ]
}